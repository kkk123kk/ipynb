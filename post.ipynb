{
 "cells": [
  {
   "cell_type": "code",
   "execution_count": 1,
   "metadata": {},
   "outputs": [],
   "source": [
    "import collections\n",
    "import jieba\n",
    "import re\n",
    "import os\n",
    "import codecs\n",
    "import math\n",
    "\n",
    "def readtxt(path):\n",
    "    context = ''\n",
    "    with open(path, \"r\", encoding=\"utf-8\") as file:\n",
    "        context = file.read()\n",
    "        file.close()\n",
    "    return context\n",
    "\n",
    "def cut(context,word_frequence,word_list,flag):\n",
    "    context2=re.sub(r'^\\s/\\sp\\s?p$', ' ', context)\n",
    "    pattern = re.compile(r'[{【，。：！？；、】}\\[\\]\\\\()（）:,.\"]')\n",
    "    tokens = pattern.split(context2.strip())\n",
    "    res = [x for x in tokens if x and x not in '- \\t\\n.,;!?\"']\n",
    "    for line in res[0:5]:\n",
    "        word = jieba.lcut(line)\n",
    "        for i in word:\n",
    "            #print(i)\n",
    "            if i not in word_list:\n",
    "                word_list[i] = 1\n",
    "                word_frequence[i]=1\n",
    "                flag[i]=0\n",
    "            else:\n",
    "                word_list[i] = word_list[i]+ 1\n",
    "                if flag[i]!=0:\n",
    "                    flag[i]=1\n",
    "           # print(word_list)\n",
    "    print(\"flag\")           \n",
    "    print(flag)\n",
    "    print(\"word_list\")\n",
    "    print(word_list)\n",
    " \n",
    "    \n",
    "    for i in flag.keys():\n",
    "        if flag[i]==1:\n",
    "            word_frequence[i]+=1\n",
    "        flag[i]=2\n",
    "\n",
    "    print(\"wod_fequence\")\n",
    "    print(word_frequence)\n",
    "    print(\"一篇结束\")    \n",
    "        \n",
    "    return word_list,word_frequence\n",
    "\n",
    "def tfidf(word_list,word_frequence):\n",
    "    total = sum(word_list.values())\n",
    "    for word in word_list.keys():\n",
    "        if word not in '[{【，。：！？；、】}\\[\\]\\\\()（）<>《》:,.\"]':\n",
    "            tf = word_list[word] / total\n",
    "            idf = math.log(29 / word_frequence[word])\n",
    "            tfidf = tf * idf\n",
    "    print(total)\n",
    "    print(\"well done!\")\n",
    "\n",
    "def funfolder(path):\n",
    "    filesArray = []\n",
    "    for root, dirs, files in os.walk(path):\n",
    "        for file in files:\n",
    "            each_file = str(root + \"\\\\\" + file)\n",
    "            filesArray.append(each_file)\n",
    "    return filesArray\n",
    "\n",
    "def main():\n",
    "    folder_path=[\"宗教法规.json\",\"劳动教养.json\"]\n",
    "    files_array = [\"宗教法规.json\",\"劳动教养.json\"]\n",
    "\n",
    "    flag={}\n",
    "    word_list= {}\n",
    "    word_frequence= {}\n",
    "    for file_path in files_array:\n",
    "        file = readtxt(file_path)\n",
    "        word_list,word_frequence= cut(file,word_frequence,word_list,flag)\n",
    "    tfidf(word_list,word_frequence)\n",
    "    #print(word_list)\n",
    "    #print(word_frequence)\n",
    "\n",
    "\n",
    "    "
   ]
  },
  {
   "cell_type": "code",
   "execution_count": 2,
   "metadata": {},
   "outputs": [
    {
     "name": "stderr",
     "output_type": "stream",
     "text": [
      "Building prefix dict from the default dictionary ...\n",
      "Dumping model to file cache /tmp/jieba.cache\n",
      "Loading model cost 1.683 seconds.\n",
      "Prefix dict has been built successfully.\n"
     ]
    },
    {
     "name": "stdout",
     "output_type": "stream",
     "text": [
      "flag\n",
      "{'name': 0, '宗教': 0, '法规': 0, '中华人民共和国': 0, '境内': 0, '外国人': 0, '活动': 0, '管理': 0, '规定': 0}\n",
      "word_list\n",
      "{'name': 2, '宗教': 3, '法规': 1, '中华人民共和国': 2, '境内': 2, '外国人': 2, '活动': 2, '管理': 2, '规定': 2}\n",
      "wod_fequence\n",
      "{'name': 1, '宗教': 1, '法规': 1, '中华人民共和国': 1, '境内': 1, '外国人': 1, '活动': 1, '管理': 1, '规定': 1}\n",
      "一篇结束\n",
      "flag\n",
      "{'name': 1, '宗教': 2, '法规': 1, '中华人民共和国': 2, '境内': 2, '外国人': 2, '活动': 2, '管理': 2, '规定': 2, '劳动教养': 0, '规章': 0, '试行': 0, '办法': 0}\n",
      "word_list\n",
      "{'name': 4, '宗教': 3, '法规': 2, '中华人民共和国': 2, '境内': 2, '外国人': 2, '活动': 2, '管理': 2, '规定': 2, '劳动教养': 3, '规章': 1, '试行': 2, '办法': 2}\n",
      "wod_fequence\n",
      "{'name': 2, '宗教': 1, '法规': 2, '中华人民共和国': 1, '境内': 1, '外国人': 1, '活动': 1, '管理': 1, '规定': 1, '劳动教养': 1, '规章': 1, '试行': 1, '办法': 1}\n",
      "一篇结束\n",
      "29\n",
      "well done!\n"
     ]
    }
   ],
   "source": [
    "main()"
   ]
  },
  {
   "cell_type": "code",
   "execution_count": null,
   "metadata": {},
   "outputs": [],
   "source": []
  }
 ],
 "metadata": {
  "kernelspec": {
   "display_name": "Python 3",
   "language": "python",
   "name": "python3"
  },
  "language_info": {
   "codemirror_mode": {
    "name": "ipython",
    "version": 3
   },
   "file_extension": ".py",
   "mimetype": "text/x-python",
   "name": "python",
   "nbconvert_exporter": "python",
   "pygments_lexer": "ipython3",
   "version": "3.6.7"
  }
 },
 "nbformat": 4,
 "nbformat_minor": 2
}
